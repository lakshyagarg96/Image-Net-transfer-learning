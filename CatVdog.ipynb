{
 "cells": [
  {
   "cell_type": "code",
   "execution_count": 10,
   "metadata": {
    "_cell_guid": "b1076dfc-b9ad-4769-8c92-a6c4dae69d19",
    "_uuid": "8f2839f25d086af736a60e9eeb907d3b93b6e0e5",
    "execution": {
     "iopub.execute_input": "2022-04-05T19:52:36.315129Z",
     "iopub.status.busy": "2022-04-05T19:52:36.314825Z",
     "iopub.status.idle": "2022-04-05T19:52:36.326726Z",
     "shell.execute_reply": "2022-04-05T19:52:36.325410Z",
     "shell.execute_reply.started": "2022-04-05T19:52:36.315098Z"
    }
   },
   "outputs": [],
   "source": [
    "from keras.models import Sequential\n",
    "\n",
    "import tensorflow as tf\n",
    "\n",
    "from tensorflow.keras.preprocessing.image import ImageDataGenerator\n",
    "\n",
    "from keras.models import Model\n",
    "\n",
    "\n",
    "import numpy as np \n",
    "import os\n",
    "import skimage.io as io\n",
    "import skimage.transform as trans\n",
    "import numpy as np\n",
    "from keras.models import *\n",
    "from keras.layers import *\n",
    "from keras.optimizers import *\n",
    "import keras\n",
    "\n",
    "from keras.layers.core import Dense, Activation, Dropout, Flatten\n",
    "from keras.layers.convolutional import Convolution2D, MaxPooling2D\n",
    "from keras.utils import np_utils\n",
    "from sklearn import metrics\n",
    "from sklearn.utils import shuffle\n",
    "from sklearn.model_selection import train_test_split\n",
    "import numpy as np\n",
    "import os\n",
    "import random \n",
    "from numpy import *\n",
    "import theano\n",
    "import pandas as pd\n",
    "from keras.models import Model\n",
    "\n",
    "import zipfile\n",
    "from tensorflow import keras\n",
    "from tensorflow.keras.models import Sequential\n",
    "from tensorflow.keras.layers import RandomRotation, Dense, Activation,RandomFlip, Dropout,MaxPooling2D, Flatten,Convolution2D,BatchNormalization, Input, Conv2D, MaxPooling2D, UpSampling2D, concatenate, Conv2DTranspose, BatchNormalization, Dropout\n",
    "from tensorflow.keras.wrappers.scikit_learn import KerasRegressor\n",
    "\n"
   ]
  },
  {
   "cell_type": "code",
   "execution_count": 11,
   "metadata": {
    "execution": {
     "iopub.execute_input": "2022-04-05T19:52:36.329802Z",
     "iopub.status.busy": "2022-04-05T19:52:36.329008Z",
     "iopub.status.idle": "2022-04-05T19:52:36.731969Z",
     "shell.execute_reply": "2022-04-05T19:52:36.731192Z",
     "shell.execute_reply.started": "2022-04-05T19:52:36.329703Z"
    }
   },
   "outputs": [],
   "source": [
    "\n",
    "import shutil\n",
    "working_dir = \"/kaggle/working/\"\n",
    "for rootdir, dirs, files in os.walk(working_dir):\n",
    "    for subdir in dirs:\n",
    "        shutil.rmtree(subdir)"
   ]
  },
  {
   "cell_type": "code",
   "execution_count": 12,
   "metadata": {
    "execution": {
     "iopub.execute_input": "2022-04-05T19:52:36.734920Z",
     "iopub.status.busy": "2022-04-05T19:52:36.734494Z",
     "iopub.status.idle": "2022-04-05T19:52:49.129868Z",
     "shell.execute_reply": "2022-04-05T19:52:49.128755Z",
     "shell.execute_reply.started": "2022-04-05T19:52:36.734883Z"
    }
   },
   "outputs": [],
   "source": [
    "working_dir = '/kaggle/working/'\n",
    "local_zip = '../input/dogs-vs-cats-redux-kernels-edition/train.zip'\n",
    "zip_ref = zipfile.ZipFile(local_zip, 'r')\n",
    "zip_ref.extractall(working_dir)\n",
    "zip_ref.close()"
   ]
  },
  {
   "cell_type": "code",
   "execution_count": 13,
   "metadata": {
    "execution": {
     "iopub.execute_input": "2022-04-05T19:52:49.131480Z",
     "iopub.status.busy": "2022-04-05T19:52:49.131200Z",
     "iopub.status.idle": "2022-04-05T19:52:49.135718Z",
     "shell.execute_reply": "2022-04-05T19:52:49.134996Z",
     "shell.execute_reply.started": "2022-04-05T19:52:49.131445Z"
    }
   },
   "outputs": [],
   "source": [
    "# Creating folders for both the classes of cats and dogs in the directory\n",
    "source = '/kaggle/working/train/'\n",
    "\n",
    "dog_photos = '/kaggle/working/train/dogs/'\n",
    "cats_photo = '/kaggle/working/train/cats/'\n",
    "os.mkdir(dog_photos)\n",
    "os.mkdir(cats_photo)"
   ]
  },
  {
   "cell_type": "markdown",
   "metadata": {},
   "source": [
    "check the naming pattern of our files with the follwing command:"
   ]
  },
  {
   "cell_type": "code",
   "execution_count": 14,
   "metadata": {
    "execution": {
     "iopub.execute_input": "2022-04-05T19:52:49.138130Z",
     "iopub.status.busy": "2022-04-05T19:52:49.137723Z",
     "iopub.status.idle": "2022-04-05T19:52:49.824716Z",
     "shell.execute_reply": "2022-04-05T19:52:49.823947Z",
     "shell.execute_reply.started": "2022-04-05T19:52:49.138093Z"
    }
   },
   "outputs": [],
   "source": [
    "# Source: https://www.kaggle.com/code/mariateplinskaya/cats-dogs-cnn-2\n",
    "train_set = os.listdir(source)\n",
    "  \n",
    "# print(len(allfiles))\n",
    "for f in train_set:\n",
    "  if os.path.isfile(source + f):\n",
    "      if 'cat' in f:\n",
    "        shutil.move(source + f, cats_photo + f)\n",
    "      if 'dog' in f:\n",
    "        shutil.move(source + f, dog_photos + f)\n"
   ]
  },
  {
   "cell_type": "code",
   "execution_count": 15,
   "metadata": {
    "execution": {
     "iopub.execute_input": "2022-04-05T19:52:49.828117Z",
     "iopub.status.busy": "2022-04-05T19:52:49.827904Z",
     "iopub.status.idle": "2022-04-05T19:52:50.500468Z",
     "shell.execute_reply": "2022-04-05T19:52:50.499633Z",
     "shell.execute_reply.started": "2022-04-05T19:52:49.828085Z"
    }
   },
   "outputs": [],
   "source": [
    "\n",
    "# Rescaling training data to 0-1 pixels\n",
    "train_datagen = ImageDataGenerator(rescale=1./255)\n",
    "# train_dir = \"/content/drive/MyDrive/marksheets/train/\"\n",
    "train_dir = source\n",
    "train_generator = train_datagen.flow_from_directory(\n",
    "        train_dir,\n",
    "        # Images will be resized to 100X100\n",
    "        target_size=(100, 100),\n",
    "        batch_size=500,\n",
    "        class_mode='categorical')"
   ]
  },
  {
   "cell_type": "code",
   "execution_count": 16,
   "metadata": {
    "execution": {
     "iopub.execute_input": "2022-04-05T19:52:50.502137Z",
     "iopub.status.busy": "2022-04-05T19:52:50.501584Z",
     "iopub.status.idle": "2022-04-05T19:52:50.507774Z",
     "shell.execute_reply": "2022-04-05T19:52:50.506765Z",
     "shell.execute_reply.started": "2022-04-05T19:52:50.502096Z"
    }
   },
   "outputs": [],
   "source": [
    "print(train_generator.class_indices)"
   ]
  },
  {
   "cell_type": "markdown",
   "metadata": {},
   "source": [
    "We can see train generator elements how does it look like. Lets see the first element of the train_generator.It will return a tuple of 32 images and 32 labels. Because our each training batch containes 32 images in it as specified by variable *train_batch = 32*"
   ]
  },
  {
   "cell_type": "code",
   "execution_count": 17,
   "metadata": {
    "execution": {
     "iopub.execute_input": "2022-04-05T19:52:50.509540Z",
     "iopub.status.busy": "2022-04-05T19:52:50.509145Z",
     "iopub.status.idle": "2022-04-05T19:52:52.794707Z",
     "shell.execute_reply": "2022-04-05T19:52:52.793913Z",
     "shell.execute_reply.started": "2022-04-05T19:52:50.509505Z"
    }
   },
   "outputs": [],
   "source": [
    "print(train_generator[0][0].shape)\n",
    "print(train_generator[0][1].shape)"
   ]
  },
  {
   "cell_type": "markdown",
   "metadata": {},
   "source": [
    "decimal value in 546.8 i.e. 0.8 shows there were 28 pictures left in the end, and our final batch has 28 pictures in it, whereas all other batches from 0 ~ 545 have 32 pictures and respective labels in it. likwise you can claculate batches in validation dataset."
   ]
  },
  {
   "cell_type": "code",
   "execution_count": 18,
   "metadata": {
    "execution": {
     "iopub.execute_input": "2022-04-05T19:52:52.796351Z",
     "iopub.status.busy": "2022-04-05T19:52:52.795828Z",
     "iopub.status.idle": "2022-04-05T19:52:59.471088Z",
     "shell.execute_reply": "2022-04-05T19:52:59.470385Z",
     "shell.execute_reply.started": "2022-04-05T19:52:52.796295Z"
    }
   },
   "outputs": [],
   "source": [
    "# source: https://www.kaggle.com/code/cvtrongduc/cat-vs-dog-with-transfer-learning\n",
    "\n",
    "my_base_model = keras.applications.DenseNet201(\n",
    "    weights=\"imagenet\",  # Load weights pre-trained on ImageNet.\n",
    "    input_shape=(100, 100, 3),\n",
    "    include_top=False,\n",
    ")  \n",
    "\n",
    "\n",
    "my_base_model.trainable = False\n",
    "\n",
    "my_inputs = keras.Input(shape=(100, 100, 3))\n",
    "\n",
    "\n",
    "x = my_base_model(my_inputs, training=False)\n",
    "x = keras.layers.GlobalAveragePooling2D()(x)\n",
    "x = keras.layers.Dense(64, activation='relu')(x)\n",
    "x = keras.layers.Dense(32, activation='relu')(x)\n",
    "my_outputs = keras.layers.Dense(1, activation='sigmoid')(x)\n",
    "my_model = keras.Model(my_inputs,my_outputs)\n",
    "\n",
    "my_model.summary()"
   ]
  },
  {
   "cell_type": "code",
   "execution_count": 19,
   "metadata": {
    "execution": {
     "iopub.execute_input": "2022-04-05T19:52:59.472624Z",
     "iopub.status.busy": "2022-04-05T19:52:59.472375Z",
     "iopub.status.idle": "2022-04-05T20:04:14.381412Z",
     "shell.execute_reply": "2022-04-05T20:04:14.379879Z",
     "shell.execute_reply.started": "2022-04-05T19:52:59.472589Z"
    }
   },
   "outputs": [],
   "source": [
    "my_model.compile(\n",
    "    optimizer=keras.optimizers.Adam(),\n",
    "    loss=keras.losses.BinaryCrossentropy(from_logits=False),\n",
    "    metrics=['accuracy']\n",
    ")\n",
    "early_stopping  = keras.callbacks.EarlyStopping(min_delta=0.001, patience=5)\n",
    "\n",
    "epochs = 10\n",
    "my_model.fit(train_generator, \n",
    "             epochs=epochs, \n",
    "             #validation_data=validation_generator,\n",
    "            callbacks=[early_stopping])"
   ]
  },
  {
   "cell_type": "code",
   "execution_count": 20,
   "metadata": {
    "execution": {
     "iopub.execute_input": "2022-04-05T20:04:14.384610Z",
     "iopub.status.busy": "2022-04-05T20:04:14.384223Z",
     "iopub.status.idle": "2022-04-05T20:04:14.388470Z",
     "shell.execute_reply": "2022-04-05T20:04:14.387820Z",
     "shell.execute_reply.started": "2022-04-05T20:04:14.384579Z"
    }
   },
   "outputs": [],
   "source": [
    "# TRIAL MODEL 1\n",
    "# nb_epochs = 10\n",
    "# img_channel = 3\n",
    "# nb_filters = 32\n",
    "# nb_pool = 2\n",
    "# nb_conv = 3\n",
    "# #Pg 461 Book hands on machine learning\n",
    "# model = keras.models.Sequential([\n",
    "# keras.layers.Conv2D(64, 7, activation=\"relu\", padding=\"same\",\n",
    "# input_shape=[100, 100, 3]),\n",
    "# keras.layers.MaxPooling2D(2),\n",
    "# keras.layers.Conv2D(128, 3, activation=\"relu\", padding=\"same\"),\n",
    "# keras.layers.Conv2D(128, 3, activation=\"relu\", padding=\"same\"),\n",
    "# keras.layers.MaxPooling2D(2),\n",
    "# keras.layers.Conv2D(256, 3, activation=\"relu\", padding=\"same\"),\n",
    "# keras.layers.Conv2D(256, 3, activation=\"relu\", padding=\"same\"),\n",
    "# keras.layers.MaxPooling2D(2),\n",
    "# keras.layers.Flatten(),\n",
    "# keras.layers.Dense(128, activation=\"relu\"),\n",
    "# keras.layers.Dropout(0.5),\n",
    "# keras.layers.Dense(64, activation=\"relu\"),\n",
    "# keras.layers.Dropout(0.5),\n",
    "# keras.layers.Dense(1, activation=\"sigmoid\")\n",
    "# ])"
   ]
  },
  {
   "cell_type": "code",
   "execution_count": 21,
   "metadata": {
    "execution": {
     "iopub.execute_input": "2022-04-05T20:04:14.390262Z",
     "iopub.status.busy": "2022-04-05T20:04:14.389794Z",
     "iopub.status.idle": "2022-04-05T20:04:14.398568Z",
     "shell.execute_reply": "2022-04-05T20:04:14.397874Z",
     "shell.execute_reply.started": "2022-04-05T20:04:14.390224Z"
    }
   },
   "outputs": [],
   "source": [
    "# TRIAL MODEL 2\n",
    "# nb_epochs = 10\n",
    "# img_channel = 3\n",
    "# nb_filters = 32\n",
    "# nb_pool = 2\n",
    "# nb_conv = 3\n",
    "# # https://www.analyticsvidhya.com/blog/2021/01/image-classification-using-convolutional-neural-networks-a-step-by-step-guide/\n",
    "# model = tf.keras.Sequential([\n",
    "#     tf.keras.layers.Conv2D(32, (3,3), padding='same', activation=tf.nn.relu, input_shape=(100, 100, 3)),\n",
    "#     tf.keras.layers.MaxPooling2D((2, 2), strides=2),\n",
    "#     tf.keras.layers.Conv2D(32, (3,3), padding='same', activation=tf.nn.relu),\n",
    "#     tf.keras.layers.MaxPooling2D((2, 2), strides=2),\n",
    "#     tf.keras.layers.Dropout(0.5),\n",
    "#     tf.keras.layers.Flatten(),\n",
    "#     tf.keras.layers.Dense(20, activation=tf.nn.relu),\n",
    "#     tf.keras.layers.Dense(2,  activation=tf.nn.softmax)\n",
    "# ])\n"
   ]
  },
  {
   "cell_type": "markdown",
   "metadata": {},
   "source": [
    "Making predictions"
   ]
  },
  {
   "cell_type": "code",
   "execution_count": 22,
   "metadata": {
    "execution": {
     "iopub.execute_input": "2022-04-05T20:04:14.402445Z",
     "iopub.status.busy": "2022-04-05T20:04:14.401174Z",
     "iopub.status.idle": "2022-04-05T20:04:17.853116Z",
     "shell.execute_reply": "2022-04-05T20:04:17.852378Z",
     "shell.execute_reply.started": "2022-04-05T20:04:14.402385Z"
    }
   },
   "outputs": [],
   "source": [
    "working_dir = '/kaggle/working/'\n",
    "local_zip_test = '../input/dogs-vs-cats-redux-kernels-edition/test.zip'\n",
    "zip_ref = zipfile.ZipFile(local_zip_test, 'r')\n",
    "zip_ref.extractall(working_dir)\n",
    "zip_ref.close()"
   ]
  },
  {
   "cell_type": "code",
   "execution_count": 23,
   "metadata": {
    "execution": {
     "iopub.execute_input": "2022-04-05T20:04:17.854694Z",
     "iopub.status.busy": "2022-04-05T20:04:17.854458Z",
     "iopub.status.idle": "2022-04-05T20:04:18.238886Z",
     "shell.execute_reply": "2022-04-05T20:04:18.238112Z",
     "shell.execute_reply.started": "2022-04-05T20:04:17.854662Z"
    }
   },
   "outputs": [],
   "source": [
    "test_directory = '/kaggle/working/test/'\n",
    "\n",
    "\n",
    "x_test = keras.utils.image_dataset_from_directory(\n",
    "  test_directory,\n",
    "  seed=68,\n",
    "  labels=None,\n",
    "  image_size=(100, 100),\n",
    "  batch_size=500,\n",
    "  interpolation='nearest',\n",
    "  shuffle=False)\n"
   ]
  },
  {
   "cell_type": "code",
   "execution_count": 24,
   "metadata": {
    "collapsed": true,
    "execution": {
     "iopub.execute_input": "2022-04-05T20:04:18.240442Z",
     "iopub.status.busy": "2022-04-05T20:04:18.240038Z",
     "iopub.status.idle": "2022-04-05T20:04:18.263123Z",
     "shell.execute_reply": "2022-04-05T20:04:18.262352Z",
     "shell.execute_reply.started": "2022-04-05T20:04:18.240401Z"
    },
    "jupyter": {
     "outputs_hidden": true
    }
   },
   "outputs": [],
   "source": [
    "file_paths = os.listdir(test_directory)\n",
    "file_path = []\n",
    "for i in file_paths:\n",
    "  j = i[:len(i)-4]\n",
    "  file_path.append(int(j))\n",
    "\n",
    "\n",
    "print (file_path)"
   ]
  },
  {
   "cell_type": "code",
   "execution_count": 25,
   "metadata": {
    "execution": {
     "iopub.execute_input": "2022-04-05T20:04:18.264739Z",
     "iopub.status.busy": "2022-04-05T20:04:18.264487Z",
     "iopub.status.idle": "2022-04-05T20:04:41.337642Z",
     "shell.execute_reply": "2022-04-05T20:04:41.336912Z",
     "shell.execute_reply.started": "2022-04-05T20:04:18.264705Z"
    }
   },
   "outputs": [],
   "source": [
    "y_pred = my_model.predict(x_test)"
   ]
  },
  {
   "cell_type": "code",
   "execution_count": 26,
   "metadata": {
    "execution": {
     "iopub.execute_input": "2022-04-05T20:04:41.339511Z",
     "iopub.status.busy": "2022-04-05T20:04:41.339246Z",
     "iopub.status.idle": "2022-04-05T20:04:41.345742Z",
     "shell.execute_reply": "2022-04-05T20:04:41.343857Z",
     "shell.execute_reply.started": "2022-04-05T20:04:41.339477Z"
    }
   },
   "outputs": [],
   "source": [
    "print(y_pred)"
   ]
  },
  {
   "cell_type": "code",
   "execution_count": 27,
   "metadata": {
    "collapsed": true,
    "execution": {
     "iopub.execute_input": "2022-04-05T20:04:41.348117Z",
     "iopub.status.busy": "2022-04-05T20:04:41.347370Z",
     "iopub.status.idle": "2022-04-05T20:04:41.366753Z",
     "shell.execute_reply": "2022-04-05T20:04:41.366108Z",
     "shell.execute_reply.started": "2022-04-05T20:04:41.348080Z"
    },
    "jupyter": {
     "outputs_hidden": true
    }
   },
   "outputs": [],
   "source": [
    "prob = []\n",
    "for i in y_pred:\n",
    "    prob.append(i[0])\n",
    "print (len(prob))\n",
    "print (prob)"
   ]
  },
  {
   "cell_type": "code",
   "execution_count": 28,
   "metadata": {
    "execution": {
     "iopub.execute_input": "2022-04-05T20:04:41.368551Z",
     "iopub.status.busy": "2022-04-05T20:04:41.367839Z",
     "iopub.status.idle": "2022-04-05T20:04:41.384793Z",
     "shell.execute_reply": "2022-04-05T20:04:41.384131Z",
     "shell.execute_reply.started": "2022-04-05T20:04:41.368512Z"
    }
   },
   "outputs": [],
   "source": [
    "e_d = {'id':file_path , 'label': prob }\n",
    "df = pd.DataFrame(e_d)\n",
    "df = df.sort_values(by=['id'], ascending = [True])"
   ]
  },
  {
   "cell_type": "code",
   "execution_count": 34,
   "metadata": {
    "execution": {
     "iopub.execute_input": "2022-04-05T20:10:02.594689Z",
     "iopub.status.busy": "2022-04-05T20:10:02.594424Z",
     "iopub.status.idle": "2022-04-05T20:10:02.630149Z",
     "shell.execute_reply": "2022-04-05T20:10:02.629499Z",
     "shell.execute_reply.started": "2022-04-05T20:10:02.594662Z"
    }
   },
   "outputs": [],
   "source": [
    "df.to_csv(\"/kaggle/working/MSBA.section2.garg0119.csv\", index = False)"
   ]
  }
 ],
 "metadata": {
  "kernelspec": {
   "display_name": "Python 3 (ipykernel)",
   "language": "python",
   "name": "python3"
  },
  "language_info": {
   "codemirror_mode": {
    "name": "ipython",
    "version": 3
   },
   "file_extension": ".py",
   "mimetype": "text/x-python",
   "name": "python",
   "nbconvert_exporter": "python",
   "pygments_lexer": "ipython3",
   "version": "3.8.8"
  }
 },
 "nbformat": 4,
 "nbformat_minor": 4
}
